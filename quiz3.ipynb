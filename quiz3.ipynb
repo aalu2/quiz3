{
  "nbformat": 4,
  "nbformat_minor": 0,
  "metadata": {
    "colab": {
      "provenance": []
    },
    "kernelspec": {
      "name": "python3",
      "display_name": "Python 3"
    },
    "language_info": {
      "name": "python"
    }
  },
  "cells": [
    {
      "cell_type": "code",
      "source": [
        "import random\n",
        "# Generating a random number between 1 and 10\n",
        "secret_number = random.randint(1, 10)\n",
        "attempts = 0\n",
        "while attempts < 3:\n",
        "    guess = int(input(\"Guess any number between 1 and 10: \"))\n",
        "    if guess < secret_number:\n",
        "        print(\"Too low, try again!\")\n",
        "    elif guess > secret_number:\n",
        "        print(\"Too high, try again!\")\n",
        "    else:\n",
        "        print(\"Congratulations, You have guessed it right.\")\n",
        "        break\n",
        "    attempts += 1\n",
        "if attempts == 3:\n",
        "    print(f\"You lost! The correct number was {secret_number}.\")"
      ],
      "metadata": {
        "id": "UKrl8VQ0UYFI"
      },
      "execution_count": null,
      "outputs": []
    }
  ]
}